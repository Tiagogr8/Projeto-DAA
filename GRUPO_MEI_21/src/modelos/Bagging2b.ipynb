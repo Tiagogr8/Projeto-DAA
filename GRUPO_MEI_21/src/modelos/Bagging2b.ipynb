{
 "cells": [
  {
   "cell_type": "markdown",
   "metadata": {},
   "source": [
    "# Bagging "
   ]
  },
  {
   "cell_type": "code",
   "execution_count": 1,
   "metadata": {},
   "outputs": [],
   "source": [
    "import sklearn as skl\n",
    "import pandas as pd\n",
    "import numpy as np\n",
    "import matplotlib.pyplot as plt\n",
    "import seaborn as sns\n",
    "from prep2b import DataPreparation\n",
    "from sklearn.metrics import f1_score\n",
    "\n",
    "from sklearn.model_selection import train_test_split, cross_val_score, GridSearchCV, StratifiedShuffleSplit\n",
    "from sklearn import tree\n",
    "\n",
    "from sklearn.ensemble import BaggingClassifier\n",
    "from sklearn.tree import DecisionTreeClassifier\n",
    "from sklearn.model_selection import GridSearchCV, StratifiedKFold, cross_val_score\n",
    "from sklearn.metrics import confusion_matrix, classification_report\n",
    "from sklearn.model_selection import train_test_split\n",
    "from sklearn.metrics import ConfusionMatrixDisplay\n",
    "\n",
    "from sklearn.metrics import classification_report\n",
    "%matplotlib inline"
   ]
  },
  {
   "cell_type": "code",
   "execution_count": 2,
   "metadata": {},
   "outputs": [],
   "source": [
    "prep = DataPreparation()\n",
    "\n",
    "train_db = pd.read_csv(\"dataset/train_radiomics_hipocamp.csv\")\n",
    "test_db = pd.read_csv(\"dataset/test_radiomics_hipocamp.csv\")\n",
    "control_db = pd.read_csv(\"dataset/train_radiomics_occipital_CONTROL.csv\")\n",
    "\n",
    "train_db = prep.prep_train(train_db)\n",
    "test_db = prep.transform(test_db)\n",
    "control_db = prep.transform(control_db)"
   ]
  },
  {
   "cell_type": "code",
   "execution_count": 3,
   "metadata": {},
   "outputs": [
    {
     "name": "stdout",
     "output_type": "stream",
     "text": [
      "<class 'pandas.core.frame.DataFrame'>\n",
      "RangeIndex: 305 entries, 0 to 304\n",
      "Columns: 382 entries, diagnostics_Image-original_Mean to Transition\n",
      "dtypes: float64(381), object(1)\n",
      "memory usage: 910.4+ KB\n"
     ]
    }
   ],
   "source": [
    "train_db.info()"
   ]
  },
  {
   "cell_type": "code",
   "execution_count": 4,
   "metadata": {},
   "outputs": [
    {
     "name": "stdout",
     "output_type": "stream",
     "text": [
      "<class 'pandas.core.frame.DataFrame'>\n",
      "RangeIndex: 100 entries, 0 to 99\n",
      "Columns: 381 entries, diagnostics_Image-original_Mean to Age\n",
      "dtypes: float64(381)\n",
      "memory usage: 297.8 KB\n"
     ]
    }
   ],
   "source": [
    "test_db.info()"
   ]
  },
  {
   "cell_type": "code",
   "execution_count": 5,
   "metadata": {},
   "outputs": [],
   "source": [
    "X = train_db.drop(columns=[\"Transition\"]) \n",
    "y = train_db[\"Transition\"]  "
   ]
  },
  {
   "cell_type": "code",
   "execution_count": 6,
   "metadata": {},
   "outputs": [],
   "source": [
    "X_train = pd.read_csv('prep2b/train_X.csv')\n",
    "X_test = pd.read_csv('prep2b/test_X.csv')\n",
    "y_train = pd.read_csv('prep2b/train_y.csv')\n",
    "y_test = pd.read_csv('prep2b/test_y.csv')"
   ]
  },
  {
   "cell_type": "code",
   "execution_count": 7,
   "metadata": {},
   "outputs": [
    {
     "name": "stdout",
     "output_type": "stream",
     "text": [
      "Fitting 10 folds for each of 128 candidates, totalling 1280 fits\n",
      "Melhores parâmetros encontrados: {'bootstrap': False, 'bootstrap_features': False, 'estimator__max_depth': 5, 'estimator__min_samples_leaf': 2, 'estimator__min_samples_split': 5, 'max_features': 0.7, 'max_samples': 1.0, 'n_estimators': 100}\n",
      "F1 Score médio com validação cruzada: 0.3442363184593632\n"
     ]
    },
    {
     "name": "stderr",
     "output_type": "stream",
     "text": [
      "/home/tiagogr/miniconda3/envs/DAA/lib/python3.12/site-packages/sklearn/ensemble/_bagging.py:888: DataConversionWarning: A column-vector y was passed when a 1d array was expected. Please change the shape of y to (n_samples, ), for example using ravel().\n",
      "  y = column_or_1d(y, warn=True)\n"
     ]
    },
    {
     "name": "stdout",
     "output_type": "stream",
     "text": [
      "Matriz de Confusão:\n"
     ]
    },
    {
     "data": {
      "image/png": "[encoded data removed]",
      "text/plain": [
       "<Figure size 640x480 with 2 Axes>"
      ]
     },
     "metadata": {},
     "output_type": "display_data"
    },
    {
     "name": "stdout",
     "output_type": "stream",
     "text": [
      "\n",
      "Relatório de Classificação:\n",
      "              precision    recall  f1-score   support\n",
      "\n",
      "       AD-AD       0.21      0.25      0.23        12\n",
      "       CN-CN       0.60      0.79      0.68        19\n",
      "      CN-MCI       0.00      0.00      0.00         2\n",
      "      MCI-AD       0.30      0.21      0.25        14\n",
      "     MCI-MCI       0.25      0.21      0.23        14\n",
      "\n",
      "    accuracy                           0.39        61\n",
      "   macro avg       0.27      0.29      0.28        61\n",
      "weighted avg       0.36      0.39      0.37        61\n",
      "\n"
     ]
    },
    {
     "name": "stderr",
     "output_type": "stream",
     "text": [
      "/home/tiagogr/miniconda3/envs/DAA/lib/python3.12/site-packages/sklearn/metrics/_classification.py:1531: UndefinedMetricWarning: Precision is ill-defined and being set to 0.0 in labels with no predicted samples. Use `zero_division` parameter to control this behavior.\n",
      "  _warn_prf(average, modifier, f\"{metric.capitalize()} is\", len(result))\n",
      "/home/tiagogr/miniconda3/envs/DAA/lib/python3.12/site-packages/sklearn/metrics/_classification.py:1531: UndefinedMetricWarning: Precision is ill-defined and being set to 0.0 in labels with no predicted samples. Use `zero_division` parameter to control this behavior.\n",
      "  _warn_prf(average, modifier, f\"{metric.capitalize()} is\", len(result))\n",
      "/home/tiagogr/miniconda3/envs/DAA/lib/python3.12/site-packages/sklearn/metrics/_classification.py:1531: UndefinedMetricWarning: Precision is ill-defined and being set to 0.0 in labels with no predicted samples. Use `zero_division` parameter to control this behavior.\n",
      "  _warn_prf(average, modifier, f\"{metric.capitalize()} is\", len(result))\n"
     ]
    }
   ],
   "source": [
    "base_clf = DecisionTreeClassifier(random_state=2024)\n",
    "clf = BaggingClassifier(estimator=base_clf, random_state=2024)\n",
    "\n",
    "param_grid = {\n",
    "    'n_estimators': [50, 100],  \n",
    "    'max_samples': [0.7, 1.0],  \n",
    "    'max_features': [0.7, 1.0], \n",
    "    'bootstrap': [True, False],      \n",
    "    'bootstrap_features': [True, False], \n",
    "    'estimator__max_depth': [5,10], \n",
    "    'estimator__min_samples_split': [2, 5], \n",
    "    'estimator__min_samples_leaf': [2]   \n",
    "}\n",
    "\n",
    "cv_strategy = StratifiedKFold(n_splits=10)\n",
    "\n",
    "grid_search = GridSearchCV(\n",
    "    estimator=clf,\n",
    "    param_grid=param_grid,\n",
    "    scoring='f1_macro',\n",
    "    cv=cv_strategy,\n",
    "    verbose=1,\n",
    "    refit=True,\n",
    "    n_jobs=8\n",
    ")\n",
    "\n",
    "grid_search.fit(X, y)\n",
    "\n",
    "print(\"Melhores parâmetros encontrados:\", grid_search.best_params_)\n",
    "\n",
    "best_model = grid_search.best_estimator_\n",
    "\n",
    "print(\"F1 Score médio com validação cruzada:\", grid_search.best_score_)\n",
    "\n",
    "best_model.fit(X_train, y_train)\n",
    "y_pred = best_model.predict(X_test)\n",
    "\n",
    "print(\"Matriz de Confusão:\")\n",
    "ConfusionMatrixDisplay.from_predictions(y_test, y_pred, cmap='Blues')\n",
    "plt.show()\n",
    "\n",
    "print(\"\\nRelatório de Classificação:\")\n",
    "print(classification_report(y_test, y_pred))\n"
   ]
  },
  {
   "cell_type": "markdown",
   "metadata": {},
   "source": [
    "### Testar Controlo"
   ]
  },
  {
   "cell_type": "code",
   "execution_count": 10,
   "metadata": {},
   "outputs": [
    {
     "name": "stdout",
     "output_type": "stream",
     "text": [
      "F1-Score no conjunto de controle: 0.14943639291465377\n"
     ]
    },
    {
     "data": {
      "image/png": "[encoded data removed]",
      "text/plain": [
       "<Figure size 640x480 with 2 Axes>"
      ]
     },
     "metadata": {},
     "output_type": "display_data"
    },
    {
     "name": "stdout",
     "output_type": "stream",
     "text": [
      "\n",
      "Relatório de Classificação no conjunto de controle:\n",
      "              precision    recall  f1-score   support\n",
      "\n",
      "       AD-AD       0.00      0.00      0.00        60\n",
      "       CN-CN       0.35      0.89      0.50        96\n",
      "      CN-MCI       0.00      0.00      0.00        10\n",
      "      MCI-AD       0.28      0.16      0.20        68\n",
      "     MCI-MCI       0.10      0.03      0.04        71\n",
      "\n",
      "    accuracy                           0.32       305\n",
      "   macro avg       0.14      0.22      0.15       305\n",
      "weighted avg       0.19      0.32      0.21       305\n",
      "\n"
     ]
    },
    {
     "name": "stderr",
     "output_type": "stream",
     "text": [
      "/home/tiagogr/miniconda3/envs/DAA/lib/python3.12/site-packages/sklearn/metrics/_classification.py:1531: UndefinedMetricWarning: Precision is ill-defined and being set to 0.0 in labels with no predicted samples. Use `zero_division` parameter to control this behavior.\n",
      "  _warn_prf(average, modifier, f\"{metric.capitalize()} is\", len(result))\n",
      "/home/tiagogr/miniconda3/envs/DAA/lib/python3.12/site-packages/sklearn/metrics/_classification.py:1531: UndefinedMetricWarning: Precision is ill-defined and being set to 0.0 in labels with no predicted samples. Use `zero_division` parameter to control this behavior.\n",
      "  _warn_prf(average, modifier, f\"{metric.capitalize()} is\", len(result))\n",
      "/home/tiagogr/miniconda3/envs/DAA/lib/python3.12/site-packages/sklearn/metrics/_classification.py:1531: UndefinedMetricWarning: Precision is ill-defined and being set to 0.0 in labels with no predicted samples. Use `zero_division` parameter to control this behavior.\n",
      "  _warn_prf(average, modifier, f\"{metric.capitalize()} is\", len(result))\n"
     ]
    }
   ],
   "source": [
    "CX = control_db.drop(columns=[\"Transition\"]) \n",
    "Cy = control_db[\"Transition\"]  \n",
    "\n",
    "control_pred = best_model.predict(CX)\n",
    "\n",
    "control_f1_score = f1_score(Cy, control_pred, average='macro')\n",
    "print(\"F1-Score no conjunto de controle:\", control_f1_score)\n",
    "\n",
    "# Matriz de Confusão\n",
    "ConfusionMatrixDisplay.from_predictions(Cy, control_pred, cmap='Blues')\n",
    "plt.show()\n",
    "\n",
    "# Relatório de Classificação\n",
    "print(\"\\nRelatório de Classificação no conjunto de controle:\")\n",
    "print(classification_report(Cy, control_pred))\n"
   ]
  },
  {
   "cell_type": "markdown",
   "metadata": {},
   "source": [
    "### Guardar o melhor modelo do Bagging"
   ]
  },
  {
   "cell_type": "code",
   "execution_count": 11,
   "metadata": {},
   "outputs": [],
   "source": [
    "best_model.fit(X, y)\n",
    "test_predictions = best_model.predict(test_db)\n",
    "\n",
    "row_ids = range(1, len(test_predictions) + 1)\n",
    "\n",
    "output_df = pd.DataFrame({\n",
    "    \"RowId\": row_ids,\n",
    "    \"Result\": test_predictions\n",
    "})\n",
    "\n",
    "\n",
    "output_df.to_csv(\"resultados/bag2b.csv\", index=False)"
   ]
  },
  {
   "cell_type": "code",
   "execution_count": null,
   "metadata": {},
   "outputs": [],
   "source": []
  }
 ],
 "metadata": {
  "kernelspec": {
   "display_name": "Python 3 (ipykernel)",
   "language": "python",
   "name": "python3"
  },
  "language_info": {
   "codemirror_mode": {
    "name": "ipython",
    "version": 3
   },
   "file_extension": ".py",
   "mimetype": "text/x-python",
   "name": "python",
   "nbconvert_exporter": "python",
   "pygments_lexer": "ipython3",
   "version": "3.12.2"
  }
 },
 "nbformat": 4,
 "nbformat_minor": 4
}
