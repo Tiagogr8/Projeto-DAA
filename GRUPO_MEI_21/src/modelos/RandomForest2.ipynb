{
 "cells": [
  {
   "cell_type": "markdown",
   "metadata": {},
   "source": [
    "# Random Forest "
   ]
  },
  {
   "cell_type": "code",
   "execution_count": 1,
   "metadata": {},
   "outputs": [],
   "source": [
    "import sklearn as skl\n",
    "import pandas as pd\n",
    "import numpy as np\n",
    "import matplotlib.pyplot as plt\n",
    "import seaborn as sns\n",
    "from prep2 import DataPreparation\n",
    "from sklearn.metrics import f1_score\n",
    "\n",
    "from sklearn.model_selection import train_test_split, cross_val_score, GridSearchCV, StratifiedShuffleSplit\n",
    "from sklearn import tree\n",
    "\n",
    "from sklearn.tree import DecisionTreeClassifier\n",
    "from sklearn.svm import SVC\n",
    "from sklearn.ensemble import RandomForestClassifier\n",
    "from sklearn.ensemble import GradientBoostingClassifier, VotingClassifier, BaggingClassifier, StackingClassifier\n",
    "from sklearn.model_selection import GridSearchCV, StratifiedKFold, cross_val_score\n",
    "from sklearn.metrics import confusion_matrix, classification_report\n",
    "from sklearn.model_selection import train_test_split\n",
    "from sklearn.metrics import ConfusionMatrixDisplay\n",
    "\n",
    "from sklearn.metrics import classification_report\n",
    "%matplotlib inline"
   ]
  },
  {
   "cell_type": "code",
   "execution_count": 2,
   "metadata": {},
   "outputs": [],
   "source": [
    "prep = DataPreparation()\n",
    "\n",
    "train_db = pd.read_csv(\"dataset/train_radiomics_hipocamp.csv\")\n",
    "test_db = pd.read_csv(\"dataset/test_radiomics_hipocamp.csv\")\n",
    "control_db = pd.read_csv(\"dataset/train_radiomics_occipital_CONTROL.csv\")\n",
    "\n",
    "train_db = prep.prep_train(train_db)\n",
    "test_db = prep.transform(test_db)\n",
    "control_db = prep.transform(control_db)"
   ]
  },
  {
   "cell_type": "code",
   "execution_count": 3,
   "metadata": {},
   "outputs": [
    {
     "name": "stdout",
     "output_type": "stream",
     "text": [
      "<class 'pandas.core.frame.DataFrame'>\n",
      "RangeIndex: 305 entries, 0 to 304\n",
      "Columns: 689 entries, diagnostics_Image-original_Mean to Transition\n",
      "dtypes: float64(688), object(1)\n",
      "memory usage: 1.6+ MB\n"
     ]
    }
   ],
   "source": [
    "train_db.info()"
   ]
  },
  {
   "cell_type": "code",
   "execution_count": 4,
   "metadata": {},
   "outputs": [
    {
     "name": "stdout",
     "output_type": "stream",
     "text": [
      "<class 'pandas.core.frame.DataFrame'>\n",
      "RangeIndex: 100 entries, 0 to 99\n",
      "Columns: 688 entries, diagnostics_Image-original_Mean to Age\n",
      "dtypes: float64(688)\n",
      "memory usage: 537.6 KB\n"
     ]
    }
   ],
   "source": [
    "test_db.info()"
   ]
  },
  {
   "cell_type": "code",
   "execution_count": 5,
   "metadata": {},
   "outputs": [],
   "source": [
    "X = train_db.drop(columns=[\"Transition\"]) \n",
    "y = train_db[\"Transition\"]  "
   ]
  },
  {
   "cell_type": "code",
   "execution_count": 6,
   "metadata": {},
   "outputs": [],
   "source": [
    "X_train = pd.read_csv('prep2/train_X.csv')\n",
    "X_test = pd.read_csv('prep2/test_X.csv')\n",
    "y_train = pd.read_csv('prep2/train_y.csv')\n",
    "y_test = pd.read_csv('prep2/test_y.csv')"
   ]
  },
  {
   "cell_type": "code",
   "execution_count": 17,
   "metadata": {
    "scrolled": true
   },
   "outputs": [
    {
     "name": "stdout",
     "output_type": "stream",
     "text": [
      "Fitting 10 folds for each of 144 candidates, totalling 1440 fits\n"
     ]
    },
    {
     "name": "stderr",
     "output_type": "stream",
     "text": [
      "/home/tiagogr/miniconda3/envs/DAA/lib/python3.12/site-packages/numpy/ma/core.py:2820: RuntimeWarning: invalid value encountered in cast\n",
      "  _data = np.array(data, dtype=dtype, copy=copy,\n"
     ]
    },
    {
     "name": "stdout",
     "output_type": "stream",
     "text": [
      "Melhores parâmetros encontrados: {'max_depth': 5, 'max_features': 'sqrt', 'min_samples_leaf': 2, 'min_samples_split': 5, 'n_estimators': 100}\n",
      "F1 Score médio com validação cruzada: 0.3431143673006374\n"
     ]
    },
    {
     "name": "stderr",
     "output_type": "stream",
     "text": [
      "/home/tiagogr/miniconda3/envs/DAA/lib/python3.12/site-packages/sklearn/base.py:1473: DataConversionWarning: A column-vector y was passed when a 1d array was expected. Please change the shape of y to (n_samples,), for example using ravel().\n",
      "  return fit_method(estimator, *args, **kwargs)\n"
     ]
    },
    {
     "name": "stdout",
     "output_type": "stream",
     "text": [
      "Matriz de Confusão:\n"
     ]
    },
    {
     "data": {
      "image/png": "[encoded data removed]",
      "text/plain": [
       "<Figure size 640x480 with 2 Axes>"
      ]
     },
     "metadata": {},
     "output_type": "display_data"
    },
    {
     "name": "stdout",
     "output_type": "stream",
     "text": [
      "\n",
      "Relatório de Classificação:\n",
      "              precision    recall  f1-score   support\n",
      "\n",
      "       AD-AD       0.55      0.50      0.52        12\n",
      "       CN-CN       0.56      0.79      0.65        19\n",
      "      CN-MCI       0.00      0.00      0.00         2\n",
      "      MCI-AD       0.31      0.36      0.33        14\n",
      "     MCI-MCI       0.14      0.07      0.10        14\n",
      "\n",
      "    accuracy                           0.44        61\n",
      "   macro avg       0.31      0.34      0.32        61\n",
      "weighted avg       0.38      0.44      0.40        61\n",
      "\n"
     ]
    },
    {
     "name": "stderr",
     "output_type": "stream",
     "text": [
      "/home/tiagogr/miniconda3/envs/DAA/lib/python3.12/site-packages/sklearn/metrics/_classification.py:1531: UndefinedMetricWarning: Precision is ill-defined and being set to 0.0 in labels with no predicted samples. Use `zero_division` parameter to control this behavior.\n",
      "  _warn_prf(average, modifier, f\"{metric.capitalize()} is\", len(result))\n",
      "/home/tiagogr/miniconda3/envs/DAA/lib/python3.12/site-packages/sklearn/metrics/_classification.py:1531: UndefinedMetricWarning: Precision is ill-defined and being set to 0.0 in labels with no predicted samples. Use `zero_division` parameter to control this behavior.\n",
      "  _warn_prf(average, modifier, f\"{metric.capitalize()} is\", len(result))\n",
      "/home/tiagogr/miniconda3/envs/DAA/lib/python3.12/site-packages/sklearn/metrics/_classification.py:1531: UndefinedMetricWarning: Precision is ill-defined and being set to 0.0 in labels with no predicted samples. Use `zero_division` parameter to control this behavior.\n",
      "  _warn_prf(average, modifier, f\"{metric.capitalize()} is\", len(result))\n"
     ]
    }
   ],
   "source": [
    "clf = RandomForestClassifier(random_state=2024)\n",
    "\n",
    "param_grid = {\n",
    "    'n_estimators': [50,100],          # Número de árvores na floresta\n",
    "    'max_depth': [3,5,7,10],                # Profundidade máxima das árvores\n",
    "    'min_samples_split': [2,5,10],         # Mínimo de amostras para dividir um nó\n",
    "    'min_samples_leaf': [2,5,10],           # Mínimo de amostras em uma folha\n",
    "    'max_features': ['log2','sqrt']         # Número de features a serem consideradas\n",
    "}\n",
    "\n",
    "cv_strategy = StratifiedKFold(n_splits=10)\n",
    "\n",
    "grid_search = GridSearchCV(\n",
    "    estimator=clf, \n",
    "    param_grid=param_grid, \n",
    "    scoring='f1_macro',  \n",
    "    cv=cv_strategy,        \n",
    "    verbose=1,              \n",
    "    refit=True,\n",
    "    n_jobs=-1 \n",
    ")\n",
    "\n",
    "grid_search.fit(X, y.to_numpy())\n",
    "\n",
    "print(\"Melhores parâmetros encontrados:\", grid_search.best_params_)\n",
    "\n",
    "best_model = grid_search.best_estimator_\n",
    "\n",
    "print(\"F1 Score médio com validação cruzada:\", grid_search.best_score_)\n",
    "\n",
    "best_model.fit(X_train, y_train)\n",
    "\n",
    "y_pred = best_model.predict(X_test)\n",
    "\n",
    "print(\"Matriz de Confusão:\")\n",
    "ConfusionMatrixDisplay.from_predictions(y_test, y_pred, cmap='Blues')\n",
    "plt.show()\n",
    "\n",
    "print(\"\\nRelatório de Classificação:\")\n",
    "print(classification_report(y_test, y_pred))"
   ]
  },
  {
   "cell_type": "markdown",
   "metadata": {},
   "source": [
    "### Testar controlo"
   ]
  },
  {
   "cell_type": "code",
   "execution_count": 18,
   "metadata": {},
   "outputs": [
    {
     "name": "stdout",
     "output_type": "stream",
     "text": [
      "F1-Score no conjunto de controle: 0.2278623471246422\n"
     ]
    },
    {
     "data": {
      "image/png": "[encoded data removed]",
      "text/plain": [
       "<Figure size 640x480 with 2 Axes>"
      ]
     },
     "metadata": {},
     "output_type": "display_data"
    },
    {
     "name": "stdout",
     "output_type": "stream",
     "text": [
      "\n",
      "Relatório de Classificação no conjunto de controle:\n",
      "              precision    recall  f1-score   support\n",
      "\n",
      "       AD-AD       0.58      0.12      0.19        60\n",
      "       CN-CN       0.31      0.47      0.38        96\n",
      "      CN-MCI       0.00      0.00      0.00        10\n",
      "      MCI-AD       0.41      0.22      0.29        68\n",
      "     MCI-MCI       0.23      0.37      0.28        71\n",
      "\n",
      "    accuracy                           0.30       305\n",
      "   macro avg       0.31      0.23      0.23       305\n",
      "weighted avg       0.36      0.30      0.29       305\n",
      "\n"
     ]
    },
    {
     "name": "stderr",
     "output_type": "stream",
     "text": [
      "/home/tiagogr/miniconda3/envs/DAA/lib/python3.12/site-packages/sklearn/metrics/_classification.py:1531: UndefinedMetricWarning: Precision is ill-defined and being set to 0.0 in labels with no predicted samples. Use `zero_division` parameter to control this behavior.\n",
      "  _warn_prf(average, modifier, f\"{metric.capitalize()} is\", len(result))\n",
      "/home/tiagogr/miniconda3/envs/DAA/lib/python3.12/site-packages/sklearn/metrics/_classification.py:1531: UndefinedMetricWarning: Precision is ill-defined and being set to 0.0 in labels with no predicted samples. Use `zero_division` parameter to control this behavior.\n",
      "  _warn_prf(average, modifier, f\"{metric.capitalize()} is\", len(result))\n",
      "/home/tiagogr/miniconda3/envs/DAA/lib/python3.12/site-packages/sklearn/metrics/_classification.py:1531: UndefinedMetricWarning: Precision is ill-defined and being set to 0.0 in labels with no predicted samples. Use `zero_division` parameter to control this behavior.\n",
      "  _warn_prf(average, modifier, f\"{metric.capitalize()} is\", len(result))\n"
     ]
    }
   ],
   "source": [
    "CX = control_db.drop(columns=[\"Transition\"]) \n",
    "Cy = control_db[\"Transition\"]  \n",
    "\n",
    "control_pred = best_model.predict(CX)\n",
    "\n",
    "control_f1_score = f1_score(Cy, control_pred, average='macro')\n",
    "print(\"F1-Score no conjunto de controle:\", control_f1_score)\n",
    "\n",
    "# Matriz de Confusão\n",
    "ConfusionMatrixDisplay.from_predictions(Cy, control_pred, cmap='Blues')\n",
    "plt.show()\n",
    "\n",
    "# Relatório de Classificação\n",
    "print(\"\\nRelatório de Classificação no conjunto de controle:\")\n",
    "print(classification_report(Cy, control_pred))\n"
   ]
  },
  {
   "cell_type": "markdown",
   "metadata": {},
   "source": [
    "### Guardar o melhor modelo do random forest"
   ]
  },
  {
   "cell_type": "code",
   "execution_count": 10,
   "metadata": {},
   "outputs": [],
   "source": [
    "best_model.fit(X, y)\n",
    "test_predictions = best_model.predict(test_db)\n",
    "\n",
    "row_ids = range(1, len(test_predictions) + 1)\n",
    "\n",
    "output_df = pd.DataFrame({\n",
    "    \"RowId\": row_ids,\n",
    "    \"Result\": test_predictions\n",
    "})\n",
    "\n",
    "\n",
    "output_df.to_csv(\"resultados/rf2.csv\", index=False)"
   ]
  }
 ],
 "metadata": {
  "kernelspec": {
   "display_name": "Python 3 (ipykernel)",
   "language": "python",
   "name": "python3"
  },
  "language_info": {
   "codemirror_mode": {
    "name": "ipython",
    "version": 3
   },
   "file_extension": ".py",
   "mimetype": "text/x-python",
   "name": "python",
   "nbconvert_exporter": "python",
   "pygments_lexer": "ipython3",
   "version": "3.12.2"
  }
 },
 "nbformat": 4,
 "nbformat_minor": 4
}
