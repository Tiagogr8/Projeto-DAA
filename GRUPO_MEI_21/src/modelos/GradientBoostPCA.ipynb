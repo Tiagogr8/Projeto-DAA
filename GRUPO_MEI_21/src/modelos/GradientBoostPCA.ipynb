{
 "cells": [
  {
   "cell_type": "markdown",
   "metadata": {},
   "source": [
    "Trabalho "
   ]
  },
  {
   "cell_type": "code",
   "execution_count": 1,
   "metadata": {},
   "outputs": [],
   "source": [
    "import sklearn as skl\n",
    "import pandas as pd\n",
    "import numpy as np\n",
    "import matplotlib.pyplot as plt\n",
    "import seaborn as sns\n",
    "\n",
    "from prepPCA import DataPreparation\n",
    "from sklearn.model_selection import train_test_split, cross_val_score, GridSearchCV, StratifiedShuffleSplit, StratifiedKFold\n",
    "from sklearn import tree\n",
    "from sklearn.ensemble import GradientBoostingClassifier\n",
    "from sklearn.metrics import confusion_matrix, classification_report, f1_score\n",
    "from sklearn.metrics import ConfusionMatrixDisplay\n",
    "\n",
    "%matplotlib inline"
   ]
  },
  {
   "cell_type": "code",
   "execution_count": 2,
   "metadata": {},
   "outputs": [],
   "source": [
    "prep = DataPreparation()\n",
    "\n",
    "train_db = pd.read_csv(\"dataset/train_radiomics_hipocamp.csv\")\n",
    "test_db = pd.read_csv(\"dataset/test_radiomics_hipocamp.csv\")\n",
    "control_db = pd.read_csv(\"dataset/train_radiomics_occipital_CONTROL.csv\")\n",
    "\n",
    "train_db = prep.prep_train(train_db)\n",
    "test_db = prep.transform(test_db)\n",
    "control_db = prep.transform(control_db)"
   ]
  },
  {
   "cell_type": "code",
   "execution_count": 3,
   "metadata": {},
   "outputs": [
    {
     "name": "stdout",
     "output_type": "stream",
     "text": [
      "<class 'pandas.core.frame.DataFrame'>\n",
      "RangeIndex: 305 entries, 0 to 304\n",
      "Data columns (total 88 columns):\n",
      " #   Column      Non-Null Count  Dtype  \n",
      "---  ------      --------------  -----  \n",
      " 0   PC1         305 non-null    float64\n",
      " 1   PC2         305 non-null    float64\n",
      " 2   PC3         305 non-null    float64\n",
      " 3   PC4         305 non-null    float64\n",
      " 4   PC5         305 non-null    float64\n",
      " 5   PC6         305 non-null    float64\n",
      " 6   PC7         305 non-null    float64\n",
      " 7   PC8         305 non-null    float64\n",
      " 8   PC9         305 non-null    float64\n",
      " 9   PC10        305 non-null    float64\n",
      " 10  PC11        305 non-null    float64\n",
      " 11  PC12        305 non-null    float64\n",
      " 12  PC13        305 non-null    float64\n",
      " 13  PC14        305 non-null    float64\n",
      " 14  PC15        305 non-null    float64\n",
      " 15  PC16        305 non-null    float64\n",
      " 16  PC17        305 non-null    float64\n",
      " 17  PC18        305 non-null    float64\n",
      " 18  PC19        305 non-null    float64\n",
      " 19  PC20        305 non-null    float64\n",
      " 20  PC21        305 non-null    float64\n",
      " 21  PC22        305 non-null    float64\n",
      " 22  PC23        305 non-null    float64\n",
      " 23  PC24        305 non-null    float64\n",
      " 24  PC25        305 non-null    float64\n",
      " 25  PC26        305 non-null    float64\n",
      " 26  PC27        305 non-null    float64\n",
      " 27  PC28        305 non-null    float64\n",
      " 28  PC29        305 non-null    float64\n",
      " 29  PC30        305 non-null    float64\n",
      " 30  PC31        305 non-null    float64\n",
      " 31  PC32        305 non-null    float64\n",
      " 32  PC33        305 non-null    float64\n",
      " 33  PC34        305 non-null    float64\n",
      " 34  PC35        305 non-null    float64\n",
      " 35  PC36        305 non-null    float64\n",
      " 36  PC37        305 non-null    float64\n",
      " 37  PC38        305 non-null    float64\n",
      " 38  PC39        305 non-null    float64\n",
      " 39  PC40        305 non-null    float64\n",
      " 40  PC41        305 non-null    float64\n",
      " 41  PC42        305 non-null    float64\n",
      " 42  PC43        305 non-null    float64\n",
      " 43  PC44        305 non-null    float64\n",
      " 44  PC45        305 non-null    float64\n",
      " 45  PC46        305 non-null    float64\n",
      " 46  PC47        305 non-null    float64\n",
      " 47  PC48        305 non-null    float64\n",
      " 48  PC49        305 non-null    float64\n",
      " 49  PC50        305 non-null    float64\n",
      " 50  PC51        305 non-null    float64\n",
      " 51  PC52        305 non-null    float64\n",
      " 52  PC53        305 non-null    float64\n",
      " 53  PC54        305 non-null    float64\n",
      " 54  PC55        305 non-null    float64\n",
      " 55  PC56        305 non-null    float64\n",
      " 56  PC57        305 non-null    float64\n",
      " 57  PC58        305 non-null    float64\n",
      " 58  PC59        305 non-null    float64\n",
      " 59  PC60        305 non-null    float64\n",
      " 60  PC61        305 non-null    float64\n",
      " 61  PC62        305 non-null    float64\n",
      " 62  PC63        305 non-null    float64\n",
      " 63  PC64        305 non-null    float64\n",
      " 64  PC65        305 non-null    float64\n",
      " 65  PC66        305 non-null    float64\n",
      " 66  PC67        305 non-null    float64\n",
      " 67  PC68        305 non-null    float64\n",
      " 68  PC69        305 non-null    float64\n",
      " 69  PC70        305 non-null    float64\n",
      " 70  PC71        305 non-null    float64\n",
      " 71  PC72        305 non-null    float64\n",
      " 72  PC73        305 non-null    float64\n",
      " 73  PC74        305 non-null    float64\n",
      " 74  PC75        305 non-null    float64\n",
      " 75  PC76        305 non-null    float64\n",
      " 76  PC77        305 non-null    float64\n",
      " 77  PC78        305 non-null    float64\n",
      " 78  PC79        305 non-null    float64\n",
      " 79  PC80        305 non-null    float64\n",
      " 80  PC81        305 non-null    float64\n",
      " 81  PC82        305 non-null    float64\n",
      " 82  PC83        305 non-null    float64\n",
      " 83  PC84        305 non-null    float64\n",
      " 84  PC85        305 non-null    float64\n",
      " 85  PC86        305 non-null    float64\n",
      " 86  PC87        305 non-null    float64\n",
      " 87  Transition  305 non-null    object \n",
      "dtypes: float64(87), object(1)\n",
      "memory usage: 209.8+ KB\n"
     ]
    }
   ],
   "source": [
    "train_db.info()"
   ]
  },
  {
   "cell_type": "code",
   "execution_count": 4,
   "metadata": {},
   "outputs": [
    {
     "name": "stdout",
     "output_type": "stream",
     "text": [
      "<class 'pandas.core.frame.DataFrame'>\n",
      "RangeIndex: 100 entries, 0 to 99\n",
      "Data columns (total 87 columns):\n",
      " #   Column  Non-Null Count  Dtype  \n",
      "---  ------  --------------  -----  \n",
      " 0   PC1     100 non-null    float64\n",
      " 1   PC2     100 non-null    float64\n",
      " 2   PC3     100 non-null    float64\n",
      " 3   PC4     100 non-null    float64\n",
      " 4   PC5     100 non-null    float64\n",
      " 5   PC6     100 non-null    float64\n",
      " 6   PC7     100 non-null    float64\n",
      " 7   PC8     100 non-null    float64\n",
      " 8   PC9     100 non-null    float64\n",
      " 9   PC10    100 non-null    float64\n",
      " 10  PC11    100 non-null    float64\n",
      " 11  PC12    100 non-null    float64\n",
      " 12  PC13    100 non-null    float64\n",
      " 13  PC14    100 non-null    float64\n",
      " 14  PC15    100 non-null    float64\n",
      " 15  PC16    100 non-null    float64\n",
      " 16  PC17    100 non-null    float64\n",
      " 17  PC18    100 non-null    float64\n",
      " 18  PC19    100 non-null    float64\n",
      " 19  PC20    100 non-null    float64\n",
      " 20  PC21    100 non-null    float64\n",
      " 21  PC22    100 non-null    float64\n",
      " 22  PC23    100 non-null    float64\n",
      " 23  PC24    100 non-null    float64\n",
      " 24  PC25    100 non-null    float64\n",
      " 25  PC26    100 non-null    float64\n",
      " 26  PC27    100 non-null    float64\n",
      " 27  PC28    100 non-null    float64\n",
      " 28  PC29    100 non-null    float64\n",
      " 29  PC30    100 non-null    float64\n",
      " 30  PC31    100 non-null    float64\n",
      " 31  PC32    100 non-null    float64\n",
      " 32  PC33    100 non-null    float64\n",
      " 33  PC34    100 non-null    float64\n",
      " 34  PC35    100 non-null    float64\n",
      " 35  PC36    100 non-null    float64\n",
      " 36  PC37    100 non-null    float64\n",
      " 37  PC38    100 non-null    float64\n",
      " 38  PC39    100 non-null    float64\n",
      " 39  PC40    100 non-null    float64\n",
      " 40  PC41    100 non-null    float64\n",
      " 41  PC42    100 non-null    float64\n",
      " 42  PC43    100 non-null    float64\n",
      " 43  PC44    100 non-null    float64\n",
      " 44  PC45    100 non-null    float64\n",
      " 45  PC46    100 non-null    float64\n",
      " 46  PC47    100 non-null    float64\n",
      " 47  PC48    100 non-null    float64\n",
      " 48  PC49    100 non-null    float64\n",
      " 49  PC50    100 non-null    float64\n",
      " 50  PC51    100 non-null    float64\n",
      " 51  PC52    100 non-null    float64\n",
      " 52  PC53    100 non-null    float64\n",
      " 53  PC54    100 non-null    float64\n",
      " 54  PC55    100 non-null    float64\n",
      " 55  PC56    100 non-null    float64\n",
      " 56  PC57    100 non-null    float64\n",
      " 57  PC58    100 non-null    float64\n",
      " 58  PC59    100 non-null    float64\n",
      " 59  PC60    100 non-null    float64\n",
      " 60  PC61    100 non-null    float64\n",
      " 61  PC62    100 non-null    float64\n",
      " 62  PC63    100 non-null    float64\n",
      " 63  PC64    100 non-null    float64\n",
      " 64  PC65    100 non-null    float64\n",
      " 65  PC66    100 non-null    float64\n",
      " 66  PC67    100 non-null    float64\n",
      " 67  PC68    100 non-null    float64\n",
      " 68  PC69    100 non-null    float64\n",
      " 69  PC70    100 non-null    float64\n",
      " 70  PC71    100 non-null    float64\n",
      " 71  PC72    100 non-null    float64\n",
      " 72  PC73    100 non-null    float64\n",
      " 73  PC74    100 non-null    float64\n",
      " 74  PC75    100 non-null    float64\n",
      " 75  PC76    100 non-null    float64\n",
      " 76  PC77    100 non-null    float64\n",
      " 77  PC78    100 non-null    float64\n",
      " 78  PC79    100 non-null    float64\n",
      " 79  PC80    100 non-null    float64\n",
      " 80  PC81    100 non-null    float64\n",
      " 81  PC82    100 non-null    float64\n",
      " 82  PC83    100 non-null    float64\n",
      " 83  PC84    100 non-null    float64\n",
      " 84  PC85    100 non-null    float64\n",
      " 85  PC86    100 non-null    float64\n",
      " 86  PC87    100 non-null    float64\n",
      "dtypes: float64(87)\n",
      "memory usage: 68.1 KB\n"
     ]
    }
   ],
   "source": [
    "test_db.info()"
   ]
  },
  {
   "cell_type": "code",
   "execution_count": 5,
   "metadata": {},
   "outputs": [],
   "source": [
    "X = train_db.drop(columns=[\"Transition\"]) \n",
    "y = train_db[\"Transition\"]  "
   ]
  },
  {
   "cell_type": "code",
   "execution_count": 6,
   "metadata": {},
   "outputs": [],
   "source": [
    "X_train = pd.read_csv('prepPCA/train_X.csv')\n",
    "X_test = pd.read_csv('prepPCA/test_X.csv')\n",
    "y_train = pd.read_csv('prepPCA/train_y.csv')\n",
    "y_test = pd.read_csv('prepPCA/test_y.csv')"
   ]
  },
  {
   "cell_type": "code",
   "execution_count": 7,
   "metadata": {
    "scrolled": true
   },
   "outputs": [
    {
     "name": "stdout",
     "output_type": "stream",
     "text": [
      "Fitting 10 folds for each of 48 candidates, totalling 480 fits\n",
      "Melhores parâmetros encontrados: {'learning_rate': 0.1, 'max_depth': 3, 'min_samples_leaf': 5, 'min_samples_split': 2, 'n_estimators': 50}\n",
      "F1 Score médio com validação cruzada: 0.3115623086953279\n"
     ]
    },
    {
     "name": "stderr",
     "output_type": "stream",
     "text": [
      "/home/tiagogr/miniconda3/envs/DAA/lib/python3.12/site-packages/sklearn/preprocessing/_label.py:114: DataConversionWarning: A column-vector y was passed when a 1d array was expected. Please change the shape of y to (n_samples, ), for example using ravel().\n",
      "  y = column_or_1d(y, warn=True)\n"
     ]
    },
    {
     "name": "stdout",
     "output_type": "stream",
     "text": [
      "Matriz de Confusão:\n"
     ]
    },
    {
     "data": {
      "image/png": "[encoded data removed]",
      "text/plain": [
       "<Figure size 640x480 with 2 Axes>"
      ]
     },
     "metadata": {},
     "output_type": "display_data"
    },
    {
     "name": "stdout",
     "output_type": "stream",
     "text": [
      "\n",
      "Relatório de Classificação:\n",
      "              precision    recall  f1-score   support\n",
      "\n",
      "       AD-AD       0.00      0.00      0.00        12\n",
      "       CN-CN       0.59      0.68      0.63        19\n",
      "      CN-MCI       0.00      0.00      0.00         2\n",
      "      MCI-AD       0.12      0.14      0.13        14\n",
      "     MCI-MCI       0.29      0.29      0.29        14\n",
      "\n",
      "    accuracy                           0.31        61\n",
      "   macro avg       0.20      0.22      0.21        61\n",
      "weighted avg       0.28      0.31      0.29        61\n",
      "\n"
     ]
    },
    {
     "name": "stderr",
     "output_type": "stream",
     "text": [
      "/home/tiagogr/miniconda3/envs/DAA/lib/python3.12/site-packages/sklearn/metrics/_classification.py:1531: UndefinedMetricWarning: Precision is ill-defined and being set to 0.0 in labels with no predicted samples. Use `zero_division` parameter to control this behavior.\n",
      "  _warn_prf(average, modifier, f\"{metric.capitalize()} is\", len(result))\n",
      "/home/tiagogr/miniconda3/envs/DAA/lib/python3.12/site-packages/sklearn/metrics/_classification.py:1531: UndefinedMetricWarning: Precision is ill-defined and being set to 0.0 in labels with no predicted samples. Use `zero_division` parameter to control this behavior.\n",
      "  _warn_prf(average, modifier, f\"{metric.capitalize()} is\", len(result))\n",
      "/home/tiagogr/miniconda3/envs/DAA/lib/python3.12/site-packages/sklearn/metrics/_classification.py:1531: UndefinedMetricWarning: Precision is ill-defined and being set to 0.0 in labels with no predicted samples. Use `zero_division` parameter to control this behavior.\n",
      "  _warn_prf(average, modifier, f\"{metric.capitalize()} is\", len(result))\n"
     ]
    }
   ],
   "source": [
    "clf = GradientBoostingClassifier(random_state=2024)\n",
    "\n",
    "\"\"\"\n",
    "param_grid = {\n",
    "    'n_estimators': [50,100,150],\n",
    "    'learning_rate': [0.1,0.3],\n",
    "    'max_depth': [3,5,7],\n",
    "    'min_samples_leaf': [2,5],\n",
    "    'min_samples_split': [2,5],\n",
    "}\n",
    "\"\"\"\n",
    "\n",
    "param_grid = {\n",
    "    'n_estimators': [50,100],\n",
    "    'learning_rate': [0.1,0.3],\n",
    "    'max_depth': [3,5,7],\n",
    "    'min_samples_leaf': [2,5],\n",
    "    'min_samples_split': [2,5],\n",
    "}\n",
    "\n",
    "cv_strategy = StratifiedKFold(n_splits=10)\n",
    "\n",
    "grid_search = GridSearchCV(\n",
    "    estimator=clf, \n",
    "    param_grid=param_grid, \n",
    "    scoring='f1_macro',  \n",
    "    cv=cv_strategy,        \n",
    "    verbose=1,              \n",
    "    refit=True,\n",
    "    n_jobs=-1 \n",
    ")\n",
    "\n",
    "grid_search.fit(X, y)\n",
    "\n",
    "print(\"Melhores parâmetros encontrados:\", grid_search.best_params_)\n",
    "\n",
    "best_model = grid_search.best_estimator_\n",
    "\n",
    "print(\"F1 Score médio com validação cruzada:\", grid_search.best_score_)\n",
    "\n",
    "best_model.fit(X_train, y_train)\n",
    "\n",
    "y_pred = best_model.predict(X_test)\n",
    "\n",
    "print(\"Matriz de Confusão:\")\n",
    "ConfusionMatrixDisplay.from_predictions(y_test, y_pred, cmap='Blues')\n",
    "plt.show()\n",
    "\n",
    "print(\"\\nRelatório de Classificação:\")\n",
    "print(classification_report(y_test, y_pred))"
   ]
  },
  {
   "cell_type": "code",
   "execution_count": 33,
   "metadata": {},
   "outputs": [
    {
     "name": "stdout",
     "output_type": "stream",
     "text": [
      "Cross F1-macro score: 0.2347\n"
     ]
    }
   ],
   "source": [
    "CX = control_db.drop(columns=[\"Transition\"]) \n",
    "Cy = control_db[\"Transition\"]  \n",
    "\n",
    "control_pred = best_model.predict(CX)\n",
    "\n",
    "control_f1_score = f1_score(Cy, control_pred, average='macro')\n",
    "print(\"F1-Score no conjunto de controle:\", control_f1_score)\n",
    "\n",
    "# Matriz de Confusão\n",
    "ConfusionMatrixDisplay.from_predictions(Cy, control_pred, cmap='Blues')\n",
    "plt.show()\n",
    "\n",
    "# Relatório de Classificação\n",
    "print(\"\\nRelatório de Classificação no conjunto de controle:\")\n",
    "print(classification_report(Cy, control_pred))"
   ]
  },
  {
   "cell_type": "markdown",
   "metadata": {},
   "source": [
    "### Guardar o melhor modelo do Gradient Bosst"
   ]
  },
  {
   "cell_type": "code",
   "execution_count": 1,
   "metadata": {},
   "outputs": [
    {
     "ename": "NameError",
     "evalue": "name 'best_model' is not defined",
     "output_type": "error",
     "traceback": [
      "\u001b[0;31m---------------------------------------------------------------------------\u001b[0m",
      "\u001b[0;31mNameError\u001b[0m                                 Traceback (most recent call last)",
      "Cell \u001b[0;32mIn[1], line 1\u001b[0m\n\u001b[0;32m----> 1\u001b[0m best_model\u001b[38;5;241m.\u001b[39mfit(X, y)\n\u001b[1;32m      2\u001b[0m test_predictions \u001b[38;5;241m=\u001b[39m best_model\u001b[38;5;241m.\u001b[39mpredict(test_db)\n\u001b[1;32m      4\u001b[0m row_ids \u001b[38;5;241m=\u001b[39m \u001b[38;5;28mrange\u001b[39m(\u001b[38;5;241m1\u001b[39m, \u001b[38;5;28mlen\u001b[39m(test_predictions) \u001b[38;5;241m+\u001b[39m \u001b[38;5;241m1\u001b[39m)\n",
      "\u001b[0;31mNameError\u001b[0m: name 'best_model' is not defined"
     ]
    }
   ],
   "source": [
    "best_model.fit(X, y)\n",
    "test_predictions = best_model.predict(test_db)\n",
    "\n",
    "row_ids = range(1, len(test_predictions) + 1)\n",
    "\n",
    "output_df = pd.DataFrame({\n",
    "    \"RowId\": row_ids,\n",
    "    \"Result\": test_predictions\n",
    "})\n",
    "\n",
    "\n",
    "output_df.to_csv(\"resultados/gbPCA.csv\", index=False)"
   ]
  },
  {
   "cell_type": "code",
   "execution_count": null,
   "metadata": {},
   "outputs": [],
   "source": []
  }
 ],
 "metadata": {
  "kernelspec": {
   "display_name": "Python 3 (ipykernel)",
   "language": "python",
   "name": "python3"
  },
  "language_info": {
   "codemirror_mode": {
    "name": "ipython",
    "version": 3
   },
   "file_extension": ".py",
   "mimetype": "text/x-python",
   "name": "python",
   "nbconvert_exporter": "python",
   "pygments_lexer": "ipython3",
   "version": "3.12.2"
  }
 },
 "nbformat": 4,
 "nbformat_minor": 4
}
